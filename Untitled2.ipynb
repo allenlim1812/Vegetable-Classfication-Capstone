{
 "cells": [
  {
   "cell_type": "code",
   "execution_count": 1,
   "id": "901df733",
   "metadata": {},
   "outputs": [],
   "source": [
    "import tensorflow as tf\n",
    "from  tensorflow import keras as k\n",
    "from tensorflow.keras.models import Sequential\n",
    "from tensorflow.keras.layers import Dense, Flatten, Conv2D, MaxPooling2D, Dropout\n",
    "from tensorflow.keras import layers\n",
    "from tensorflow.keras.utils import to_categorical\n",
    "import numpy as np\n",
    "import matplotlib.pyplot as plt\n",
    "from tensorflow.keras.preprocessing import image\n",
    "from tensorflow.keras.applications.inception_v3 import preprocess_input, decode_predictions\n",
    "from tensorflow.keras.applications.inception_v3 import InceptionV3\n",
    "from tensorflow.keras.optimizers import RMSprop\n",
    "from tensorflow.keras.preprocessing.image import ImageDataGenerator\n",
    "from tensorflow.keras import layers\n",
    "from tensorflow.keras import Model\n",
    "from tensorflow.keras.applications.vgg16 import VGG16, preprocess_input,decode_predictions\n",
    "from tensorflow.keras.optimizers import Adam\n",
    "\n",
    "\n",
    "import PIL\n",
    "import os\n",
    "from os import getcwd\n",
    "\n",
    "\n",
    "plt.style.use('fivethirtyeight')\n",
    "import pathlib\n"
   ]
  },
  {
   "cell_type": "code",
   "execution_count": 2,
   "id": "61ef246e",
   "metadata": {},
   "outputs": [
    {
     "name": "stdout",
     "output_type": "stream",
     "text": [
      "Total Daikon Images: 399\n",
      "Total Lotus Root Images: 408\n",
      "Total Avocado Images: 476\n",
      "Total bokchoy Images: 480\n",
      "Total tomato Images: 350\n"
     ]
    }
   ],
   "source": [
    "daikon = os.path.join('./sorted/Vegetables/Daikon/')\n",
    "lotus_root = os.path.join('./sorted/Vegetables/lotus root/')\n",
    "avocado = os.path.join('./sorted/Vegetables/avocado/')\n",
    "bokchoy = os.path.join('./sorted/Vegetables/bok choy/')\n",
    "tomato = os.path.join('./sorted/Vegetables/tomato/')\n",
    "\n",
    "\n",
    "print('Total Daikon Images:', len(os.listdir(daikon)))\n",
    "print('Total Lotus Root Images:', len(os.listdir(lotus_root)))\n",
    "print('Total Avocado Images:', len(os.listdir(avocado)))\n",
    "print('Total bokchoy Images:', len(os.listdir(bokchoy)))\n",
    "print('Total tomato Images:', len(os.listdir(tomato)))\n"
   ]
  },
  {
   "cell_type": "code",
   "execution_count": 3,
   "id": "1902d962",
   "metadata": {},
   "outputs": [
    {
     "name": "stdout",
     "output_type": "stream",
     "text": [
      "./sorted/Vegetables\\avocado\n",
      "no of images in this folder: 476\n",
      "./sorted/Vegetables\\bok choy\n",
      "no of images in this folder: 480\n",
      "./sorted/Vegetables\\Daikon\n",
      "no of images in this folder: 399\n",
      "./sorted/Vegetables\\lotus root\n",
      "no of images in this folder: 408\n",
      "./sorted/Vegetables\\tomato\n",
      "no of images in this folder: 350\n"
     ]
    }
   ],
   "source": [
    "#Train-Test Partitioning\n",
    "from glob import glob\n",
    "import os.path\n",
    "from shutil import copy2\n",
    "\n",
    "path = './sorted/Vegetables/'\n",
    "test = './sorted/Test/'\n",
    "train = './sorted/Train/'\n",
    "\n",
    "if not os.path.exists(test):\n",
    "\tos.makedirs(test)\n",
    "if not os.path.exists(train):\n",
    "\tos.makedirs(train)\n",
    " \n",
    "for folder in glob(path+'/*'):\n",
    "\t\tprint(folder)\n",
    "\t\t# find number of images in folder\n",
    "\t\tno_images_in_folder = len(os.listdir(folder))\n",
    "\t\t# make new folder inside test and train\n",
    "\t\tfolder_test = test+'/'+folder.split('/')[2]+'/'\n",
    "\t\tfolder_train = train+'/'+folder.split('/')[2]+'/'\n",
    "\t\t# print(folder_test)\n",
    "\t\t# print(folder_train)\n",
    "\t\tif not os.path.exists(folder_test):\n",
    "\t\t\tos.makedirs(folder_test)\n",
    "\t\tif not os.path.exists(folder_train):\n",
    "\t\t\tos.makedirs(folder_train)\n",
    "\n",
    "\t\tprint(\"no of images in this folder: {}\".format(no_images_in_folder))\n",
    "\t\ttrain_num = int(no_images_in_folder*0.8)\n",
    "\t\t\n",
    "\t\t# iterate from 0..test and copy to test\n",
    "\t\t# iterate test to end and copy to train\n",
    "\t\tfor idx, im in enumerate(glob(folder+'/*')):\n",
    "\t\t\t#print(im)\n",
    "\t\t\tif idx <= train_num:\n",
    "\t\t\t# copy to test\n",
    "\t\t\t\tcopy2(im, folder_train)\n",
    "\t\t\telse:\n",
    "\t\t\t# copy to train\n",
    "\t\t\t\tcopy2(im, folder_test)\n",
    "\n"
   ]
  },
  {
   "cell_type": "code",
   "execution_count": 4,
   "id": "40736b33",
   "metadata": {},
   "outputs": [
    {
     "name": "stdout",
     "output_type": "stream",
     "text": [
      "360\n",
      "429\n",
      "433\n",
      "368\n",
      "316\n",
      "79\n",
      "95\n",
      "95\n",
      "81\n",
      "69\n"
     ]
    }
   ],
   "source": [
    "\n",
    "# Define our example directories and files\n",
    "train_dir = './sorted/Train/Vegetables/'\n",
    "validation_dir = './sorted/Test/Vegetables/'\n",
    "\n",
    "train_daikon_dir = os.path.join(train_dir,'Daikon')\n",
    "train_avocado_dir = os.path.join(train_dir,'avocado')\n",
    "train_bokchoy_dir = os.path.join(train_dir,'bok choy')\n",
    "train_lotusroot_dir = os.path.join(train_dir,'lotus root')\n",
    "train_tomato_dir = os.path.join(train_dir,'tomato')\n",
    "\n",
    "\n",
    "validation_daikon_dir = os.path.join(validation_dir,'Daikon')\n",
    "validation_avocado_dir = os.path.join(validation_dir,'avocado')\n",
    "validation_bokchoy_dir = os.path.join(validation_dir,'bok choy')\n",
    "validation_lotusroot_dir = os.path.join(validation_dir,'lotus root')\n",
    "validation_tomato_dir = os.path.join(validation_dir,'tomato')\n",
    "\n",
    "\n",
    "train_daikon_fnames = os.listdir(train_daikon_dir)\n",
    "train_avocado_fnames = os.listdir(train_avocado_dir)\n",
    "train_bokchoy_fnames = os.listdir(train_bokchoy_dir)\n",
    "train_lotusroot_fnames = os.listdir(train_lotusroot_dir)\n",
    "train_tomato_fnames = os.listdir(train_tomato_dir)\n",
    "\n",
    "validation_daikon_fnames = os.listdir(validation_daikon_dir)\n",
    "validation_avocado_fnames = os.listdir(validation_avocado_dir)\n",
    "validation_bokchoy_fnames = os.listdir(validation_bokchoy_dir)\n",
    "validation_lotusroot_fnames = os.listdir(validation_lotusroot_dir)\n",
    "validation_tomato_fnames = os.listdir(validation_tomato_dir)\n",
    "\n",
    "print(len(train_daikon_fnames))\n",
    "print(len(train_avocado_fnames))\n",
    "print(len(train_bokchoy_fnames))\n",
    "print(len(train_lotusroot_fnames))\n",
    "print(len(train_tomato_fnames))\n",
    "\n",
    "print(len(validation_daikon_fnames))\n",
    "print(len(validation_avocado_fnames))\n",
    "print(len(validation_bokchoy_fnames))\n",
    "print(len(validation_lotusroot_fnames))\n",
    "print(len(validation_tomato_fnames))\n"
   ]
  },
  {
   "cell_type": "code",
   "execution_count": 5,
   "id": "a3187894",
   "metadata": {},
   "outputs": [
    {
     "name": "stdout",
     "output_type": "stream",
     "text": [
      "Found 1906 images belonging to 5 classes.\n",
      "Found 419 images belonging to 5 classes.\n"
     ]
    }
   ],
   "source": [
    "# Add our data-augmentation parameters to ImageDataGenerator\n",
    "train_datagen = ImageDataGenerator(rescale=1./255,\n",
    "      rotation_range=40,\n",
    "      width_shift_range=0.2,\n",
    "      height_shift_range=0.2,\n",
    "      shear_range=0.2,\n",
    "      zoom_range=0.2,\n",
    "      horizontal_flip=True,\n",
    "      fill_mode='nearest')\n",
    "\n",
    "# Note that the validation data should not be augmented!\n",
    "test_datagen = ImageDataGenerator(rescale=1/255)\n",
    "\n",
    "# Flow training images in batches of 20 using train_datagen generator\n",
    "train_generator = train_datagen.flow_from_directory(train_dir,  # This is the source directory for training images\n",
    "        target_size=(150,150), \n",
    "        batch_size=20,\n",
    "        class_mode='categorical')\n",
    "\n",
    "# Flow validation images in batches of 20 using test_datagen generator\n",
    "validation_generator =  test_datagen.flow_from_directory( validation_dir,  # This is the source directory for training images\n",
    "        target_size=(150,150), \n",
    "        batch_size=20,\n",
    "        class_mode='categorical')\n"
   ]
  },
  {
   "cell_type": "code",
   "execution_count": 6,
   "id": "bdd723c6",
   "metadata": {},
   "outputs": [],
   "source": [
    "labels = train_generator.class_indices"
   ]
  },
  {
   "cell_type": "code",
   "execution_count": 7,
   "id": "e111bc4a",
   "metadata": {},
   "outputs": [],
   "source": [
    "vgg16 = VGG16(weights='imagenet', input_shape=(150,150,3), include_top=False)\n",
    "vgg16.trainable = False\n",
    "\n",
    "model = tf.keras.models.Sequential([\n",
    "                             vgg16,\n",
    "                             tf.keras.layers.GlobalAveragePooling2D(),\n",
    "                             k.layers.Dropout(0.2),\n",
    "                             k.layers.Dense(512, activation='relu'),\n",
    "                             k.layers.BatchNormalization(),\n",
    "                             k.layers.Dropout(0.1),\n",
    "                             k.layers.Dense(256, activation='relu'),\n",
    "                             k.layers.BatchNormalization(),\n",
    "                             k.layers.Dropout(0.1),\n",
    "                             k.layers.Dense(len(labels), activation='softmax')\n",
    "])"
   ]
  },
  {
   "cell_type": "code",
   "execution_count": 8,
   "id": "b2b2910d",
   "metadata": {},
   "outputs": [
    {
     "name": "stdout",
     "output_type": "stream",
     "text": [
      "Model: \"sequential\"\n",
      "_________________________________________________________________\n",
      "Layer (type)                 Output Shape              Param #   \n",
      "=================================================================\n",
      "vgg16 (Functional)           (None, 4, 4, 512)         14714688  \n",
      "_________________________________________________________________\n",
      "global_average_pooling2d (Gl (None, 512)               0         \n",
      "_________________________________________________________________\n",
      "dropout (Dropout)            (None, 512)               0         \n",
      "_________________________________________________________________\n",
      "dense (Dense)                (None, 512)               262656    \n",
      "_________________________________________________________________\n",
      "batch_normalization (BatchNo (None, 512)               2048      \n",
      "_________________________________________________________________\n",
      "dropout_1 (Dropout)          (None, 512)               0         \n",
      "_________________________________________________________________\n",
      "dense_1 (Dense)              (None, 256)               131328    \n",
      "_________________________________________________________________\n",
      "batch_normalization_1 (Batch (None, 256)               1024      \n",
      "_________________________________________________________________\n",
      "dropout_2 (Dropout)          (None, 256)               0         \n",
      "_________________________________________________________________\n",
      "dense_2 (Dense)              (None, 5)                 1285      \n",
      "=================================================================\n",
      "Total params: 15,113,029\n",
      "Trainable params: 396,805\n",
      "Non-trainable params: 14,716,224\n",
      "_________________________________________________________________\n",
      "None\n"
     ]
    }
   ],
   "source": [
    "print(model.summary())"
   ]
  },
  {
   "cell_type": "code",
   "execution_count": 9,
   "id": "d513bd6a",
   "metadata": {},
   "outputs": [],
   "source": [
    "model.compile(optimizer = 'adam', \n",
    "              loss = 'categorical_crossentropy', \n",
    "              metrics = ['accuracy'])"
   ]
  },
  {
   "cell_type": "code",
   "execution_count": null,
   "id": "08f15e27",
   "metadata": {
    "scrolled": true
   },
   "outputs": [
    {
     "name": "stderr",
     "output_type": "stream",
     "text": [
      "C:\\Users\\allen\\anaconda3\\lib\\site-packages\\tensorflow\\python\\keras\\engine\\training.py:1940: UserWarning: `Model.fit_generator` is deprecated and will be removed in a future version. Please use `Model.fit`, which supports generators.\n",
      "  warnings.warn('`Model.fit_generator` is deprecated and '\n"
     ]
    },
    {
     "name": "stdout",
     "output_type": "stream",
     "text": [
      "Epoch 1/15\n",
      "10/10 [==============================] - 156s 16s/step - loss: 1.6942 - categorical_accuracy: 0.4000 - val_loss: 1.3809 - val_categorical_accuracy: 0.2530\n",
      "Epoch 2/15\n",
      "10/10 [==============================] - 150s 16s/step - loss: 1.0757 - categorical_accuracy: 0.6700 - val_loss: 1.1989 - val_categorical_accuracy: 0.4988\n",
      "Epoch 3/15\n",
      " 9/10 [==========================>...] - ETA: 4s - loss: 0.9920 - categorical_accuracy: 0.6611"
     ]
    }
   ],
   "source": [
    "model.fit_generator(train_generator,\n",
    "                             validation_data = validation_generator,\n",
    "                             steps_per_epoch = 10,\n",
    "                             epochs = 15\n",
    "                             )"
   ]
  },
  {
   "cell_type": "code",
   "execution_count": null,
   "id": "8f0c302e",
   "metadata": {},
   "outputs": [],
   "source": [
    "def class_name(prediction_cat):\n",
    "    for name, key in labels.items():\n",
    "        if key == prediction_cat:\n",
    "            return name"
   ]
  },
  {
   "cell_type": "code",
   "execution_count": null,
   "id": "e983c3a9",
   "metadata": {},
   "outputs": [],
   "source": [
    "def predict_image(img_path):\n",
    "    pic_path = img_path\n",
    "    pic = image.load_img(pic_path, target_size =(150,150))\n",
    "    plt.imshow(pic)\n",
    "    pic_array = image.img_to_array(pic)\n",
    "    pic_batch = np.expand_dims(pic_array, axis = 0)\n",
    "    pic_preprocessed = preprocess_input(pic_batch)\n",
    "    prediction = model.predict(pic_preprocessed)\n",
    "    prediction_cat = np.argmax(prediction, -1)\n",
    "    label = class_name(prediction_cat)\n",
    "    print(f'This image most likely belongs to {label} with a {(np.max(prediction)*100)}% chance')\n"
   ]
  },
  {
   "cell_type": "code",
   "execution_count": null,
   "id": "f8f55a1f",
   "metadata": {},
   "outputs": [],
   "source": [
    "predict_image('./cucumber.jpg')"
   ]
  },
  {
   "cell_type": "code",
   "execution_count": null,
   "id": "95c67349",
   "metadata": {},
   "outputs": [],
   "source": [
    "pic_path = './cat.jpg'"
   ]
  },
  {
   "cell_type": "code",
   "execution_count": null,
   "id": "b232653f",
   "metadata": {},
   "outputs": [],
   "source": [
    "pic = image.load_img(pic_path, target_size =(150,150))"
   ]
  },
  {
   "cell_type": "code",
   "execution_count": null,
   "id": "091eac71",
   "metadata": {},
   "outputs": [],
   "source": [
    "plt.imshow(pic)"
   ]
  },
  {
   "cell_type": "code",
   "execution_count": null,
   "id": "8ec31bbe",
   "metadata": {},
   "outputs": [],
   "source": [
    "pic_array = image.img_to_array(pic)"
   ]
  },
  {
   "cell_type": "code",
   "execution_count": null,
   "id": "08db7ad4",
   "metadata": {},
   "outputs": [],
   "source": [
    "pic_batch = np.expand_dims(pic_array, axis = 0)"
   ]
  },
  {
   "cell_type": "code",
   "execution_count": null,
   "id": "33969cd3",
   "metadata": {},
   "outputs": [],
   "source": [
    "pic_preprocessed = preprocess_input(pic_batch)\n"
   ]
  },
  {
   "cell_type": "code",
   "execution_count": null,
   "id": "cf44d96e",
   "metadata": {},
   "outputs": [],
   "source": [
    "prediction = model.predict(pic_preprocessed)"
   ]
  },
  {
   "cell_type": "code",
   "execution_count": null,
   "id": "1b7dba5b",
   "metadata": {},
   "outputs": [],
   "source": [
    "prediction"
   ]
  },
  {
   "cell_type": "code",
   "execution_count": null,
   "id": "f35ea0b6",
   "metadata": {},
   "outputs": [],
   "source": [
    "score = tf.nn.softmax(prediction)"
   ]
  },
  {
   "cell_type": "code",
   "execution_count": null,
   "id": "6e17032a",
   "metadata": {},
   "outputs": [],
   "source": [
    "score"
   ]
  },
  {
   "cell_type": "code",
   "execution_count": null,
   "id": "846c2810",
   "metadata": {},
   "outputs": [],
   "source": [
    "prediction_cat = np.argmax(prediction, -1)"
   ]
  },
  {
   "cell_type": "code",
   "execution_count": null,
   "id": "c6164be4",
   "metadata": {},
   "outputs": [],
   "source": [
    "prediction_cat"
   ]
  },
  {
   "cell_type": "code",
   "execution_count": null,
   "id": "ca7b70e6",
   "metadata": {},
   "outputs": [],
   "source": [
    "def class_name(prediction_cat):\n",
    "    for name, key in labels.items():\n",
    "        if key == prediction_cat:\n",
    "            return name"
   ]
  },
  {
   "cell_type": "code",
   "execution_count": null,
   "id": "5f48ddc4",
   "metadata": {},
   "outputs": [],
   "source": [
    "class_name(prediction_cat)"
   ]
  },
  {
   "cell_type": "code",
   "execution_count": null,
   "id": "08f90494",
   "metadata": {},
   "outputs": [],
   "source": []
  }
 ],
 "metadata": {
  "kernelspec": {
   "display_name": "Python 3",
   "language": "python",
   "name": "python3"
  },
  "language_info": {
   "codemirror_mode": {
    "name": "ipython",
    "version": 3
   },
   "file_extension": ".py",
   "mimetype": "text/x-python",
   "name": "python",
   "nbconvert_exporter": "python",
   "pygments_lexer": "ipython3",
   "version": "3.8.8"
  }
 },
 "nbformat": 4,
 "nbformat_minor": 5
}
